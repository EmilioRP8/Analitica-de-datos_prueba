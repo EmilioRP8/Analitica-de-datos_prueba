{
 "cells": [
  {
   "cell_type": "markdown",
   "metadata": {},
   "source": [
    "#\tColumna\tDescripción\tJustificación\n",
    "1\tid\tIdentificador único del anuncio.\tPermite identificar de forma inequívoca cada anuncio en la base de datos.\n",
    "2\tscrape_id\tID del proceso de scraping.\tFacilita el seguimiento y la gestión de los datos extraídos en cada proceso de scraping.\n",
    "3\tlast_scraped\tFecha de extracción de la información.\tPermite conocer la fecha en la que se obtuvo la información del anuncio, lo cual es útil para verificar la actualidad de los datos.\n",
    "4\thost_id\tIdentificador único del anfitrión.\tPermite identificar al anfitrión del anuncio de forma única.\n",
    "5\thost_since\tFecha de registro del anfitrión.\tProporciona información sobre la antigüedad del anfitrión en la plataforma.\n",
    "6\thost_response_rate\tTasa de respuesta del anfitrión.\tIndica la rapidez con la que el anfitrión responde a las consultas de los huéspedes.\n",
    "7\thost_acceptance_rate\tTasa de aceptación del anfitrión.\tMuestra la probabilidad de que el anfitrión acepte una solicitud de reserva.\n",
    "8\thost_listings_count\tNúmero de anuncios activos del anfitrión.\tPermite conocer cuántos anuncios tiene activos el anfitrión en la plataforma.\n",
    "9\thost_total_listings_count\tNúmero total de anuncios del anfitrión.\tIncluye tanto los anuncios activos como los inactivos del anfitrión.\n",
    "10\tlatitude\tLatitud del anuncio.\tCoordenada geográfica necesaria para ubicar el anuncio en un mapa.\n",
    "11\tlongitude\tLongitud del anuncio.\tCoordenada geográfica necesaria para ubicar el anuncio en un mapa.\n",
    "12\taccommodates\tCapacidad del alojamiento.\tIndica el número máximo de personas que pueden hospedarse en el alojamiento.\n",
    "13\tbathrooms\tNúmero de baños.\tPermite a los huéspedes conocer la cantidad de baños disponibles en el alojamiento.\n",
    "14\tbathrooms_text\tDescripción de los baños.\tOfrece detalles sobre el tipo de baños (compartidos, privados, etc.).\n",
    "15\tbedrooms\tNúmero de habitaciones.\tIndica la cantidad de habitaciones disponibles para los huéspedes.\n",
    "16\tbeds\tNúmero de camas.\tPermite a los huéspedes conocer la cantidad de camas disponibles en el alojamiento.\n",
    "17\tprice\tPrecio por noche.\tPrecio por noche del alojamiento en dólares.\n",
    "18\tminimum_nights\tMínimo de noches.\tNúmero mínimo de noches requeridas para reservar el alojamiento.\n",
    "19\tmaximum_nights\tMáximo de noches.\tNúmero máximo de noches permitidas para reservar el alojamiento.\n",
    "20\tminimum_minimum_nights\tMínimo de noches (configuración del anfitrión).\tMínimo de noches permitido entre todas las configuraciones del anfitrión.\n",
    "21\tmaximum_minimum_nights\tMáximo de noches (configuración mínima).\tMáximo de noches permitido dentro de la configuración mínima.\n",
    "22\tminimum_maximum_nights\tMínimo de noches (configuración máxima).\tMínimo de noches permitido dentro de la configuración máxima.\n",
    "23\tmaximum_maximum_nights\tMáximo de noches (reservas).\tMáximo de noches permitido para reservas.\n",
    "24\tminimum_nights_avg_ntm\tPromedio de noches mínimas.\tPromedio de noches mínimas requeridas para reservar.\n",
    "25\tmaximum_nights_avg_ntm\tPromedio de noches máximas.\tPromedio de noches máximas permitidas para reservar.\n",
    "26\tavailability_30\tDisponibilidad en 30 días.\tNúmero de noches disponibles en los próximos 30 días.\n",
    "27\tavailability_60\tDisponibilidad en 60 días.\tNúmero de noches disponibles en los próximos 60 días.\n",
    "28\tavailability_90\tDisponibilidad en 90 días.\tNúmero de noches disponibles en los próximos 90 días.\n",
    "29\tavailability_365\tDisponibilidad en 365 días.\tNúmero de noches disponibles en los próximos 365 días.\n",
    "30\tnumber_of_reviews\tNúmero de reseñas.\tCantidad total de reseñas recibidas por el anuncio.\n",
    "31\tnumber_of_reviews_ltm\tReseñas en los últimos 12 meses.\tCantidad de reseñas recibidas en los últimos 12 meses.\n",
    "32\tnumber_of_reviews_l30d\tReseñas en los últimos 30 días.\tCantidad de reseñas recibidas en los últimos 30 días.\n",
    "33\tfirst_review\tFecha de la primera reseña.\tFecha en la que se recibió la primera reseña del anuncio.\n",
    "34\tlast_review\tFecha de la última reseña.\tFecha en la que se recibió la última reseña del anuncio.\n",
    "35\treview_scores_rating\tPuntuación promedio.\tPuntuación promedio general del alojamiento.\n",
    "36\treview_scores_accuracy\tPuntuación de precisión.\tPuntuación otorgada por los huéspedes a la precisión del anuncio.\n",
    "37\treview_scores_cleanliness\tPuntuación de limpieza.\tPuntuación otorgada por los huéspedes a la limpieza del alojamiento.\n",
    "38\treview_scores_checkin\tPuntuación de check-in.\tPuntuación otorgada por los huéspedes a la facilidad de check-in.\n",
    "39\treview_scores_communication\tPuntuación de comunicación.\tPuntuación otorgada por los huéspedes a la comunicación con el anfitrión.\n",
    "40\treview_scores_location\tPuntuación de ubicación.\tPuntuación otorgada por los huéspedes a la ubicación del alojamiento.\n",
    "41\treview_scores_value\tPuntuación de relación calidad-precio.\tPuntuación otorgada por los huéspedes a la relación calidad-precio del alojamiento.\n",
    "42\tinstant_bookable\tReserva instantánea (Sí/No).\tIndica si el alojamiento permite la reserva instantánea.\n",
    "43\tcalculated_host_listings_count\tAnuncios activos del anfitrión.\tNúmero total de anuncios activos del anfitrión.\n",
    "44\tcalculated_host_listings_count_entire_homes\tAnuncios de alojamientos completos.\tNúmero de anuncios de alojamientos completos del anfitrión.\n",
    "45\tcalculated_host_listings_count_private_rooms\tAnuncios de habitaciones privadas.\tNúmero de anuncios de habitaciones privadas del anfitrión.\n",
    "46\tcalculated_host_listings_count_shared_rooms\tAnuncios de habitaciones compartidas.\tNúmero de anuncios de habitaciones compartidas del anfitrión.\n",
    "47\thost_url\tEnlace al perfil del anfitrión.\tEnlace al perfil del anfitrión en la plataforma.\n",
    "48\thost_neighbourhood\tVecindario del anfitrión.\tVecindario en el que se encuentra el anfitrión.\n",
    "49\tcalendar_updated\tÚltima actualización del calendario.\tFecha de la última actualización del calendario de disponibilidad del anuncio.\n",
    "50\tamenities\tComodidades del alojamiento.\tLista de comodidades ofrecidas en el alojamiento."
   ]
  }
 ],
 "metadata": {
  "kernelspec": {
   "display_name": "Python 3",
   "language": "python",
   "name": "python3"
  },
  "language_info": {
   "name": "python",
   "version": "3.13.2"
  }
 },
 "nbformat": 4,
 "nbformat_minor": 2
}
